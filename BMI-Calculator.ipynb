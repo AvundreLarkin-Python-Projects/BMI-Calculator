{
 "cells": [
  {
   "cell_type": "markdown",
   "id": "33c0d9e7-d2d9-4375-a057-8d1dd25d151c",
   "metadata": {},
   "source": [
    "# BMI Calculator"
   ]
  },
  {
   "cell_type": "code",
   "execution_count": 2,
   "id": "01e34109-e9a7-4eb8-8b34-a87e29388ab3",
   "metadata": {},
   "outputs": [
    {
     "name": "stdin",
     "output_type": "stream",
     "text": [
      "Enter your name:  Avundre\n",
      "Enter your weight in pounds:  176\n",
      "Enter your height in inches:  69\n"
     ]
    },
    {
     "name": "stdout",
     "output_type": "stream",
     "text": [
      "25.98781768536022\n",
      "Avundre, you are overweight. You need to exercise more, and stop practicing python!\n"
     ]
    }
   ],
   "source": [
    "name = input('Enter your name: ')\n",
    "\n",
    "weight = int(input(\"Enter your weight in pounds: \"))\n",
    "\n",
    "height = int(input(\"Enter your height in inches: \"))\n",
    "\n",
    "BMI = (weight * 703) / ( height * height)\n",
    "\n",
    "print(BMI)\n",
    "\n",
    "if BMI > 0:\n",
    "    if(BMI < 18.5):\n",
    "        print(name +', you are underweight.')\n",
    "    elif (BMI >= 18.5 and BMI<= 24.9):\n",
    "        print(name + ', you are normal weight.')\n",
    "    elif (BMI >= 25.0 and BMI<= 29.9):\n",
    "        print(name + ', you are overweight. You need to exercise more, and stop practicing python!')\n",
    "    elif (BMI >= 40.0 and BMI<= 34.9):\n",
    "        print(name + ', you are Obese.')\n",
    "    elif (BMI >= 35.0 and BMI<= 39.9):\n",
    "        print(name + ', you are severely obese.')\n",
    "    elif (BMI >= 40):\n",
    "        print(name + ', you are morbidly obese.')\n",
    "    else:\n",
    "        print('Enter valid inputs')\n"
   ]
  },
  {
   "cell_type": "code",
   "execution_count": 5,
   "id": "7af89c03-cf0a-49bb-b5ee-341fdc75e48c",
   "metadata": {},
   "outputs": [
    {
     "name": "stdout",
     "output_type": "stream",
     "text": [
      "176\n"
     ]
    }
   ],
   "source": [
    "print(weight)"
   ]
  },
  {
   "cell_type": "code",
   "execution_count": null,
   "id": "b7728075-a4c7-407f-a8b8-5f1ed8648073",
   "metadata": {},
   "outputs": [],
   "source": []
  },
  {
   "cell_type": "code",
   "execution_count": null,
   "id": "b71efd2b-8d7d-47be-b05c-8495fc365588",
   "metadata": {},
   "outputs": [],
   "source": []
  },
  {
   "cell_type": "code",
   "execution_count": null,
   "id": "c1dd5571-5ea3-44c6-83cb-137f69f225c7",
   "metadata": {},
   "outputs": [],
   "source": []
  },
  {
   "cell_type": "code",
   "execution_count": null,
   "id": "7c223c39-3465-4ed8-915a-82efdca569ad",
   "metadata": {},
   "outputs": [],
   "source": [
    "#BMI = (weight in pounds x 703) / ( height in inches x height in inches)"
   ]
  },
  {
   "cell_type": "code",
   "execution_count": null,
   "id": "3af59458-7ebd-4268-a46a-f546bc52bee6",
   "metadata": {},
   "outputs": [],
   "source": [
    "print(weight)"
   ]
  },
  {
   "cell_type": "code",
   "execution_count": null,
   "id": "81b5dc62-629c-4efc-ac2e-ecc607c1c75c",
   "metadata": {},
   "outputs": [],
   "source": [
    "Under 18.5 -> Underweight -> Minimal\n",
    "18.5 - 24.9 -> Normal Weight -> Minimal\n",
    "25.0 - 29.9 -> Overweight -> Increased\n",
    "30.0 - 34.9 -> Obese -> High\n",
    "35.0 - 39.9 -> Severely Obese -> Very High\n",
    "40 and over -> Morbidly Obese -> Extremely High"
   ]
  },
  {
   "cell_type": "code",
   "execution_count": 15,
   "id": "0ba2aea4-26fe-4b11-a3fb-2c1ca69d2acc",
   "metadata": {},
   "outputs": [
    {
     "name": "stdout",
     "output_type": "stream",
     "text": [
      "Avundre, you are overweight.\n"
     ]
    }
   ],
   "source": [
    "if BMI > 0:\n",
    "    if(BMI < 18.5):\n",
    "        print(name +', you are underweight.')\n",
    "    elif (BMI >= 18.5 and BMI<= 24.9):\n",
    "        print(name + ', you are normal weight.')\n",
    "    elif (BMI >= 25.0 and BMI<= 29.9):\n",
    "        print(name + ', you are overweight.')\n",
    "    elif (BMI >= 40.0 and BMI<= 34.9):\n",
    "        print(name + ', you are Obese.')\n",
    "    elif (BMI >= 35.0 and BMI<= 39.9):\n",
    "        print(name + ', you are severely obese.')\n",
    "    elif (BMI >= 40):\n",
    "        print(name + ', you are morbidly obese.')\n",
    "    else:\n",
    "        print('Enter valid inputs')"
   ]
  },
  {
   "cell_type": "code",
   "execution_count": null,
   "id": "d7b40a99-dcd6-472b-827d-878b4efc4968",
   "metadata": {},
   "outputs": [],
   "source": []
  },
  {
   "cell_type": "code",
   "execution_count": null,
   "id": "3d7aa76c-6c08-4742-8e83-7e057d5e5665",
   "metadata": {},
   "outputs": [],
   "source": []
  },
  {
   "cell_type": "code",
   "execution_count": null,
   "id": "2f5d5ab8-16ab-469a-82ae-a3322defa5de",
   "metadata": {},
   "outputs": [],
   "source": []
  },
  {
   "cell_type": "code",
   "execution_count": null,
   "id": "ebf0515f-401c-466f-a821-5ac103445ead",
   "metadata": {},
   "outputs": [],
   "source": []
  },
  {
   "cell_type": "code",
   "execution_count": null,
   "id": "d0158b65-182f-4a55-ba58-61ff0b55fc3c",
   "metadata": {},
   "outputs": [],
   "source": []
  },
  {
   "cell_type": "code",
   "execution_count": null,
   "id": "840c59f1-12b5-440e-afd4-d506440805bd",
   "metadata": {},
   "outputs": [],
   "source": []
  },
  {
   "cell_type": "code",
   "execution_count": null,
   "id": "163c8341-8399-4e69-b0ee-71bb04a177d4",
   "metadata": {},
   "outputs": [],
   "source": []
  },
  {
   "cell_type": "code",
   "execution_count": null,
   "id": "2dac586a-a293-4aa7-91b7-6033d7ca021b",
   "metadata": {},
   "outputs": [],
   "source": []
  },
  {
   "cell_type": "code",
   "execution_count": null,
   "id": "75d65a3c-efcd-4b23-8644-1a4e5a798c26",
   "metadata": {},
   "outputs": [],
   "source": []
  },
  {
   "cell_type": "code",
   "execution_count": null,
   "id": "c21a10f7-b76b-4ae6-8191-2895232a2ab5",
   "metadata": {},
   "outputs": [],
   "source": []
  },
  {
   "cell_type": "code",
   "execution_count": null,
   "id": "8db176bb-fdcf-4287-b8b2-1ba3aa2f6b48",
   "metadata": {},
   "outputs": [],
   "source": []
  },
  {
   "cell_type": "code",
   "execution_count": null,
   "id": "b1cdc245-70b0-4662-b2ac-2aed9050ef95",
   "metadata": {},
   "outputs": [],
   "source": []
  },
  {
   "cell_type": "code",
   "execution_count": null,
   "id": "a210ca2f-4407-4446-a103-aa71ef305def",
   "metadata": {},
   "outputs": [],
   "source": []
  },
  {
   "cell_type": "code",
   "execution_count": null,
   "id": "491b1a06-87f0-4726-a39a-d7837175bd27",
   "metadata": {},
   "outputs": [],
   "source": []
  },
  {
   "cell_type": "code",
   "execution_count": null,
   "id": "12b26508-2584-4f8b-b436-90fa5561c09f",
   "metadata": {},
   "outputs": [],
   "source": []
  },
  {
   "cell_type": "code",
   "execution_count": null,
   "id": "eda94cad-cad0-4e95-ace7-d872cbbe3537",
   "metadata": {},
   "outputs": [],
   "source": []
  },
  {
   "cell_type": "code",
   "execution_count": null,
   "id": "b137ce58-5c7c-41fc-8878-a57f67b07bc5",
   "metadata": {},
   "outputs": [],
   "source": []
  },
  {
   "cell_type": "code",
   "execution_count": null,
   "id": "10ecf0e2-bed4-48e5-bcef-417432b52842",
   "metadata": {},
   "outputs": [],
   "source": []
  },
  {
   "cell_type": "code",
   "execution_count": null,
   "id": "a40dbb45-5203-4ab5-9c8d-062fdd548ec6",
   "metadata": {},
   "outputs": [],
   "source": []
  },
  {
   "cell_type": "code",
   "execution_count": null,
   "id": "96f65252-7f1f-448a-8ef9-562a9abe5c15",
   "metadata": {},
   "outputs": [],
   "source": []
  },
  {
   "cell_type": "code",
   "execution_count": null,
   "id": "361c976f-53c3-4f54-9b44-eee7cde10532",
   "metadata": {},
   "outputs": [],
   "source": []
  },
  {
   "cell_type": "code",
   "execution_count": null,
   "id": "4f4b5c73-983c-4480-93df-2b42057afebe",
   "metadata": {},
   "outputs": [],
   "source": []
  },
  {
   "cell_type": "code",
   "execution_count": null,
   "id": "9f8481d5-3530-4a2c-b9f8-fc4ba99c3860",
   "metadata": {},
   "outputs": [],
   "source": []
  },
  {
   "cell_type": "code",
   "execution_count": null,
   "id": "f295005a-1ae6-4c9e-bd91-67e96281e003",
   "metadata": {},
   "outputs": [],
   "source": []
  },
  {
   "cell_type": "code",
   "execution_count": null,
   "id": "08cb92dc-6b4b-45c4-9356-73d47e863aab",
   "metadata": {},
   "outputs": [],
   "source": []
  },
  {
   "cell_type": "code",
   "execution_count": null,
   "id": "62806b37-398f-41c8-a53b-464d249a8d2d",
   "metadata": {},
   "outputs": [],
   "source": []
  },
  {
   "cell_type": "code",
   "execution_count": null,
   "id": "aeab270f-ed90-4985-a081-f6425826f7f1",
   "metadata": {},
   "outputs": [],
   "source": []
  },
  {
   "cell_type": "code",
   "execution_count": null,
   "id": "31ae6960-21f1-46a2-9da1-50f592fc5879",
   "metadata": {},
   "outputs": [],
   "source": []
  },
  {
   "cell_type": "code",
   "execution_count": null,
   "id": "7eb41ade-e708-4c50-8f4d-1857bb0a6252",
   "metadata": {},
   "outputs": [],
   "source": []
  },
  {
   "cell_type": "code",
   "execution_count": null,
   "id": "e22b3014-be1a-4cfe-af64-038db5ae574b",
   "metadata": {},
   "outputs": [],
   "source": []
  },
  {
   "cell_type": "code",
   "execution_count": null,
   "id": "8158dce3-b882-432b-9d9d-c494654b9067",
   "metadata": {},
   "outputs": [],
   "source": []
  },
  {
   "cell_type": "code",
   "execution_count": null,
   "id": "6a3b039a-554e-4fb4-ac2e-a8461bb8998b",
   "metadata": {},
   "outputs": [],
   "source": []
  },
  {
   "cell_type": "code",
   "execution_count": null,
   "id": "38726ec4-742d-43fb-b2ee-ac69b84a8550",
   "metadata": {},
   "outputs": [],
   "source": []
  },
  {
   "cell_type": "code",
   "execution_count": null,
   "id": "7e6c9966-427b-4a57-8f2d-88c88ede6dbd",
   "metadata": {},
   "outputs": [],
   "source": []
  },
  {
   "cell_type": "code",
   "execution_count": null,
   "id": "c4141bc1-5f52-48d1-92e2-184ba6401633",
   "metadata": {},
   "outputs": [],
   "source": []
  },
  {
   "cell_type": "code",
   "execution_count": null,
   "id": "491cffef-de10-4bcf-8710-42870776dae8",
   "metadata": {},
   "outputs": [],
   "source": []
  },
  {
   "cell_type": "code",
   "execution_count": null,
   "id": "e6d3de54-b495-43f7-b2f0-b86b6eb565f8",
   "metadata": {},
   "outputs": [],
   "source": []
  },
  {
   "cell_type": "code",
   "execution_count": null,
   "id": "749148c2-1b62-4be3-a95a-9269293a5f0f",
   "metadata": {},
   "outputs": [],
   "source": []
  },
  {
   "cell_type": "code",
   "execution_count": null,
   "id": "190d3308-a995-4525-908e-e7fd111a317b",
   "metadata": {},
   "outputs": [],
   "source": []
  },
  {
   "cell_type": "code",
   "execution_count": null,
   "id": "8b756ec3-1eff-4e73-a53b-ba932fafa990",
   "metadata": {},
   "outputs": [],
   "source": []
  },
  {
   "cell_type": "code",
   "execution_count": null,
   "id": "e363e9f6-a591-4a25-94e6-f8cdd2e517d8",
   "metadata": {},
   "outputs": [],
   "source": []
  },
  {
   "cell_type": "code",
   "execution_count": null,
   "id": "11a71435-a276-4178-ae59-509a06608cf8",
   "metadata": {},
   "outputs": [],
   "source": []
  },
  {
   "cell_type": "code",
   "execution_count": null,
   "id": "b666e2be-6df6-4afd-957c-dc20dde2f69a",
   "metadata": {},
   "outputs": [],
   "source": []
  },
  {
   "cell_type": "code",
   "execution_count": null,
   "id": "11ab554d-abe5-499d-8d2c-f229a4665c8c",
   "metadata": {},
   "outputs": [],
   "source": []
  },
  {
   "cell_type": "code",
   "execution_count": null,
   "id": "a167ff07-04d6-44d1-8857-ca17221cf2b9",
   "metadata": {},
   "outputs": [],
   "source": []
  },
  {
   "cell_type": "code",
   "execution_count": null,
   "id": "18fd29d3-bf10-4ae7-bf7e-2a7cdc8f0d65",
   "metadata": {},
   "outputs": [],
   "source": []
  },
  {
   "cell_type": "code",
   "execution_count": null,
   "id": "d00cb875-b473-4d2c-8eaf-dbbd0ee00330",
   "metadata": {},
   "outputs": [],
   "source": []
  },
  {
   "cell_type": "code",
   "execution_count": null,
   "id": "d0a79c8c-eab5-4507-a0c6-19e32841f2ef",
   "metadata": {},
   "outputs": [],
   "source": []
  },
  {
   "cell_type": "code",
   "execution_count": null,
   "id": "e32ee283-d417-4db8-93ad-62869b969510",
   "metadata": {},
   "outputs": [],
   "source": []
  },
  {
   "cell_type": "code",
   "execution_count": null,
   "id": "f07fe082-b5c0-47a3-bc69-6786e9ddbf69",
   "metadata": {},
   "outputs": [],
   "source": []
  },
  {
   "cell_type": "code",
   "execution_count": null,
   "id": "a407d3db-3da0-438c-92e6-7dda790ff207",
   "metadata": {},
   "outputs": [],
   "source": []
  },
  {
   "cell_type": "code",
   "execution_count": null,
   "id": "cb3944d0-1451-4240-88a2-236ed1f2e398",
   "metadata": {},
   "outputs": [],
   "source": []
  },
  {
   "cell_type": "code",
   "execution_count": null,
   "id": "a93aa0f9-3239-4ec6-b2c4-15727df33148",
   "metadata": {},
   "outputs": [],
   "source": []
  },
  {
   "cell_type": "code",
   "execution_count": null,
   "id": "1eaf61c2-0f4c-4da0-abb0-ae2db99b71bd",
   "metadata": {},
   "outputs": [],
   "source": []
  },
  {
   "cell_type": "code",
   "execution_count": null,
   "id": "0023e94b-0b88-48fd-a9bc-82944e9541dd",
   "metadata": {},
   "outputs": [],
   "source": []
  },
  {
   "cell_type": "code",
   "execution_count": null,
   "id": "d16405a2-0981-429f-a0ea-8b463d67b602",
   "metadata": {},
   "outputs": [],
   "source": []
  },
  {
   "cell_type": "code",
   "execution_count": null,
   "id": "461d80b6-cc3f-4fd0-93c2-5b1cfeb20f82",
   "metadata": {},
   "outputs": [],
   "source": []
  },
  {
   "cell_type": "code",
   "execution_count": null,
   "id": "2048dd19-8b24-4c22-a364-820b15adeb15",
   "metadata": {},
   "outputs": [],
   "source": []
  },
  {
   "cell_type": "code",
   "execution_count": null,
   "id": "0e942f2a-7419-4419-82e0-4bb04943d6c8",
   "metadata": {},
   "outputs": [],
   "source": []
  },
  {
   "cell_type": "code",
   "execution_count": null,
   "id": "f34f29a8-9bda-46bc-97f4-a6467f670c49",
   "metadata": {},
   "outputs": [],
   "source": []
  },
  {
   "cell_type": "code",
   "execution_count": null,
   "id": "67b2b582-ccf4-4497-aedd-9fee8e2a3c44",
   "metadata": {},
   "outputs": [],
   "source": []
  },
  {
   "cell_type": "code",
   "execution_count": null,
   "id": "1d15a37b-7444-42a9-af40-5ed36792b56d",
   "metadata": {},
   "outputs": [],
   "source": []
  },
  {
   "cell_type": "code",
   "execution_count": null,
   "id": "576cf46d-3bc5-44c7-bf2a-03771e7c8198",
   "metadata": {},
   "outputs": [],
   "source": []
  },
  {
   "cell_type": "code",
   "execution_count": null,
   "id": "da9c4c98-b71e-4b84-802e-deebdbf18a68",
   "metadata": {},
   "outputs": [],
   "source": []
  },
  {
   "cell_type": "code",
   "execution_count": null,
   "id": "cdf31e5d-0ba4-40bb-b3cd-14f061e4b2db",
   "metadata": {},
   "outputs": [],
   "source": []
  },
  {
   "cell_type": "code",
   "execution_count": null,
   "id": "ac9f8413-2ee6-42d8-8d3f-f5ece87ccb99",
   "metadata": {},
   "outputs": [],
   "source": []
  },
  {
   "cell_type": "code",
   "execution_count": null,
   "id": "f448185d-35b5-47cd-85ee-47a349586e12",
   "metadata": {},
   "outputs": [],
   "source": []
  }
 ],
 "metadata": {
  "kernelspec": {
   "display_name": "Python [conda env:base] *",
   "language": "python",
   "name": "conda-base-py"
  },
  "language_info": {
   "codemirror_mode": {
    "name": "ipython",
    "version": 3
   },
   "file_extension": ".py",
   "mimetype": "text/x-python",
   "name": "python",
   "nbconvert_exporter": "python",
   "pygments_lexer": "ipython3",
   "version": "3.13.5"
  }
 },
 "nbformat": 4,
 "nbformat_minor": 5
}
